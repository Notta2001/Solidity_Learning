{
  "nbformat": 4,
  "nbformat_minor": 0,
  "metadata": {
    "colab": {
      "name": "BlockChain - Webinar 12 .ipynb",
      "provenance": [],
      "authorship_tag": "ABX9TyNNa09XPmAn8ia0qgBEMygF",
      "include_colab_link": true
    },
    "kernelspec": {
      "name": "python3",
      "display_name": "Python 3"
    },
    "language_info": {
      "name": "python"
    }
  },
  "cells": [
    {
      "cell_type": "markdown",
      "metadata": {
        "id": "view-in-github",
        "colab_type": "text"
      },
      "source": [
        "<a href=\"https://colab.research.google.com/github/ThangDoan2001/Solidity_Learning/blob/master/BlockChain_Webinar_12_.ipynb\" target=\"_parent\"><img src=\"https://colab.research.google.com/assets/colab-badge.svg\" alt=\"Open In Colab\"/></a>"
      ]
    },
    {
      "cell_type": "markdown",
      "metadata": {
        "id": "YEhmn2N32uIN"
      },
      "source": [
        "# Cơ sở toán học trong BlockChain, Crypto\n",
        "\n",
        "1. Elliptic Curve Cryptography\n",
        "2. Hàm băm (Hash)\n",
        "\n"
      ]
    },
    {
      "cell_type": "markdown",
      "metadata": {
        "id": "EhRX8Ay937wR"
      },
      "source": [
        "## Hệ mật mã (Cryptographic system)"
      ]
    },
    {
      "cell_type": "markdown",
      "metadata": {
        "id": "am4n5SIh36ZT"
      },
      "source": [
        "### Định nghĩa\n",
        "* Bản rõ (P) - Plain Text : Chưa được mã hóa \n",
        "* Bản mã (C) - Cipher Text\n",
        "* Khóa (key)\n",
        "* Thuật toán mã hóa C = E_k(P)\n",
        "* Thuận toán giải mã P = D_K(C)\n",
        "* Bài toán luôn có nghiệm chính xác duy nhất"
      ]
    },
    {
      "cell_type": "markdown",
      "metadata": {
        "id": "gh0OiwJ66WV0"
      },
      "source": [
        "Một hệ mật thiết kế tốt phải đảm bảo được nghiệm chính xác duy nhất\n",
        "\n",
        "Phần lớn hệ mật làm việc với các số nguyên (thường rất lớn)\n",
        "\n",
        "Hàm nghịch đảo luôn tồn tại duy nhất "
      ]
    },
    {
      "cell_type": "markdown",
      "metadata": {
        "id": "QcRRvE6V61FJ"
      },
      "source": [
        "### Nguyên lý của hệ mật mã\n",
        "\n",
        "* Bài toán khó (toán học)\n",
        "  * Che giấu thông tin với người không được phép\n",
        "  * Thời gian giải, số lượng phép toán tăng theo hàm mũ\n",
        "  * Phổ biến \n",
        "    * Phân tích thừa số nguyên tố\n",
        "    * Logarithm rời rạc\n",
        "    * ...\n",
        "* Khó một chiều : người được phép -> dễ giải\n",
        "* Chốt (trap door): key (giữa cái khó với cái dễ) : Khi có chốt bài toán đang khó sẽ trở thành dễ"
      ]
    },
    {
      "cell_type": "markdown",
      "metadata": {
        "id": "1WtlNRzy73gw"
      },
      "source": [
        "### Phân loại\n",
        "\n",
        "* Đối xứng (Symetric) \n",
        "  * Key mã hóa = key giải mã\n",
        "  * Tốc độ mã hóa, giải mã nhanh\n",
        "  * Thuật toán phổ biến : AES256, DES\n",
        "  * Ứng dụng : Mã hóa dữ liệu tốc độ cao, dùng như hàm giả ngẫu nhiên, có thể dùng như hàm băm\n",
        "\n",
        "* Bất đối xứng (Asymetric) khóa công khai\n",
        "  * Key mã hóa != khóa giải mã \n",
        "  * Ứng dụng: Mã hóa, kí số, trao đổi khóa chung\n"
      ]
    },
    {
      "cell_type": "markdown",
      "metadata": {
        "id": "P-mK1fQl-ISp"
      },
      "source": [
        "### Hàm băm (Hash function)\n",
        "\n"
      ]
    },
    {
      "cell_type": "markdown",
      "metadata": {
        "id": "70UlZflE_lm5"
      },
      "source": [
        "* Hàm 1 chiều, không khóa (key)\n",
        "  * Giá trị băm để định danh cho dữ liệu (đầu vào -> băm -> đầu ra) \n",
        "  * Không thể khôi phục đầu vào\n",
        "  * Đầu ra kích thước cố định, đầu vào thì không\n",
        "* Tính chất\n",
        "  * Kích thước đầu vào là bất kì, cho đầu ra ngẫu nhiên, kích thước cố định (256bit)\n",
        "  * Xác suất 2 giá trị đầu vào có đầu ra giống nhau rất thấp\n",
        "  * Khó vét cạn 256bit = 2^256\n",
        "* Phổ biến:\n",
        "  * SHA256\n",
        "  * RIPEMD160\n",
        "  * KECCAK256\n",
        "* Công cụ online\n",
        "  * emn178....\n",
        "* Ứng dụng:\n",
        "  * Trong IT\n",
        "    * So khớp dữ liệu\n",
        "    * Làm định danh cho dữ liệu\n",
        "    * Kiểm tra tính toàn vẹn của dữ liệu\n",
        "  * Trong blockchain\n",
        "    * Tạo địa chỉ ví\n",
        "    * Định danh giao dịch\n",
        "    * Định dạng khối block\n",
        "    * Tạo nhánh cho Merkle Trê\n",
        "    * Thành phần chính trong thuật toán đào BitCoin (proof of work)\n",
        "    * ..."
      ]
    },
    {
      "cell_type": "markdown",
      "metadata": {
        "id": "SrZ8Swsm_rkK"
      },
      "source": [
        "## Elliptic Curve"
      ]
    },
    {
      "cell_type": "markdown",
      "metadata": {
        "id": "TgzpAOPQGOVK"
      },
      "source": [
        "### Phương trình \n",
        "y^2 = x^3 + Ax + B \n",
        "* x, y, A, B là các số nguyên\n",
        "* Phép toán đồng dư modulo\n",
        "* Trường hữu hạn\n",
        "* VD:\n",
        "  * secp256k1: y^2 = x^3 + 7\n",
        "  * Curve25519 .....\n",
        "  * ...."
      ]
    },
    {
      "cell_type": "markdown",
      "metadata": {
        "id": "t6WQlTOOIgaD"
      },
      "source": [
        "### Quan hệ giữa các điểm trong đường cong \n",
        "* P1 + P2 -> P3(P12) : kẻ đường thẳng qua 2 điểm P1, P2 cắt đường cong tại P3, lấy đ/x qua trục hoành được P3'\n",
        " \n",
        " -> Phép cộng đóng trên đường cong\n",
        "* Công thức: Slide\n",
        "\n",
        "* Nhân vô hướng : nP = Q\n",
        "* Không có các phép toán khác, không chia"
      ]
    },
    {
      "cell_type": "markdown",
      "metadata": {
        "id": "PEJ4xdJwOrp7"
      },
      "source": [
        "### Q = d*G Public key sinh từ Private key"
      ]
    },
    {
      "cell_type": "markdown",
      "metadata": {
        "id": "dHzvZ01iKaJy"
      },
      "source": [
        "### Xây dựng bài toán khó, logarit rời rạc "
      ]
    },
    {
      "cell_type": "markdown",
      "metadata": {
        "id": "-OA0CDTwNP-N"
      },
      "source": [
        "### Chữ kí số ECDSA \n",
        "\n",
        "Học kĩ trong slide"
      ]
    },
    {
      "cell_type": "markdown",
      "metadata": {
        "id": "ieDCKfycSMKG"
      },
      "source": [
        "# link : https://www.evernote.com/shard/s215/client/snv?noteGuid=0363ea0d-76cf-7a1e-b6df-3895e7791a63&noteKey=cb8692e799400772f1a9115d612c7f45&sn=https://www.evernote.com/shard/s215/sh/0363ea0d-76cf-7a1e-b6df-3895e7791a63/cb8692e799400772f1a9115d612c7f45&title=Webinar%253A%2B%25C4%2590%25C6%25B0%25E1%25BB%259Dng%2BCong%2BElliptic%2Bv%25C3%25A0%2BC%25C6%25A1%2BS%25E1%25BB%259F%2BTo%25C3%25A1n%2BH%25E1%25BB%258Dc%2BC%25E1%25BB%25A7a%2BC%25C3%25B4ng%2BNgh%25E1%25BB%2587%2BBlockchain%2Bv%25C3%25A0%2BCrypto&fbclid=IwAR0wulcSaGQWVdyH7iAQsa_rlpdI47nlegnHl01ITkiPxpDt3DkgL6FhdRk\n"
      ]
    },
    {
      "cell_type": "code",
      "metadata": {
        "id": "G7GXCrYLyE1_"
      },
      "source": [
        ""
      ],
      "execution_count": null,
      "outputs": []
    }
  ]
}